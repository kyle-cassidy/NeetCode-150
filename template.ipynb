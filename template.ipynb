{
 "cells": [
  {
   "cell_type": "markdown",
   "metadata": {},
   "source": [
    "# Title"
   ]
  },
  {
   "cell_type": "markdown",
   "metadata": {},
   "source": [
    "```yaml\n",
    "---\n",
    "title: Title\n",
    "leetcode_id: \n",
    "neetcode_id: \n",
    "difficulty: \n",
    "topic: \n",
    "attempted: \n",
    "---"
   ]
  },
  {
   "cell_type": "markdown",
   "metadata": {},
   "source": [
    "# Description"
   ]
  },
  {
   "cell_type": "markdown",
   "metadata": {},
   "source": [
    "## problem statement\n",
    "Description goes here.\n"
   ]
  },
  {
   "cell_type": "markdown",
   "metadata": {},
   "source": [
    "## Examples\n",
    "```python\n",
    "## Example 1:\n",
    "Input: \n",
    "Output: \n",
    "\n",
    "## Example 2:\n",
    "Input: \n",
    "Output: \n",
    "\n",
    "## Example 3:\n",
    "Input: \n",
    "Output: \n",
    "```\n",
    "\n",
    "## Constraints:\n",
    "```python\n",
    "- \n",
    "- \n",
    "```"
   ]
  },
  {
   "cell_type": "markdown",
   "metadata": {},
   "source": [
    "# Implementation"
   ]
  },
  {
   "cell_type": "code",
   "execution_count": null,
   "metadata": {},
   "outputs": [],
   "source": [
    "def function_name(params):\n",
    "    # Your implementation here\n",
    "    pass"
   ]
  },
  {
   "cell_type": "markdown",
   "metadata": {},
   "source": [
    "# Test"
   ]
  },
  {
   "cell_type": "code",
   "execution_count": null,
   "metadata": {},
   "outputs": [],
   "source": [
    "from typing import List\n",
    "\n",
    "def test_function_name():\n",
    "    # Test case 1\n",
    "    assert function_name(params) == expected_output\n",
    "\n",
    "    # Test case 2\n",
    "    assert function_name(params) == expected_output\n",
    "\n",
    "    print(\"All test cases passed!\")\n",
    "\n",
    "# Run the tests\n",
    "test_function_name()"
   ]
  }
 ],
 "metadata": {
  "kernelspec": {
   "display_name": "forge",
   "language": "python",
   "name": "python3"
  },
  "language_info": {
   "codemirror_mode": {
    "name": "ipython",
    "version": 3
   },
   "file_extension": ".py",
   "mimetype": "text/x-python",
   "name": "python",
   "nbconvert_exporter": "python",
   "pygments_lexer": "ipython3",
   "version": "3.11.8"
  }
 },
 "nbformat": 4,
 "nbformat_minor": 2
}
