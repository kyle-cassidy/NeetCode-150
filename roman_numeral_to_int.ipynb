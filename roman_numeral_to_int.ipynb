{
 "cells": [
  {
   "cell_type": "markdown",
   "id": "6154be9e-3da8-431e-b49c-4aa6ca5045c9",
   "metadata": {},
   "source": [
    "# Roman Numeral to Integer"
   ]
  },
  {
   "cell_type": "markdown",
   "id": "26b647be-32fb-4d73-a3d6-e73c4f929895",
   "metadata": {},
   "source": [
    "## Roman numerals are represented by seven different symbols: I, V, X, L, C, D, and M.\n",
    "```\n",
    "| Symbol | Value |\n",
    "|--------|-------|\n",
    "| I      | 1     |\n",
    "| V      | 5     |\n",
    "| X      | 10    |\n",
    "| L      | 50    |\n",
    "| C      | 100   |\n",
    "| D      | 500   |\n",
    "| M      | 1000  |\n",
    "```\n",
    "For example, 2 is written as II in Roman numeral, just two ones added together. 12 is written as XII, which is simply X + II. The number 27 is written as XXVII, which is XX + V + II.\n",
    " \n",
    " Roman numerals are usually written largest to smallest from left to right. However, the numeral for four is not IIII. Instead, the number four is written as IV. Because the one is before the five we subtract it making four. The same principle applies to the number nine, which is written as IX. There are six instances where subtraction is used:\n",
    " \n",
    " - I can be placed before V (5) and X (10) to make 4 and 9.\n",
    " - X can be placed before L (50) and C (100) to make 40 and 90.\n",
    " - C can be placed before D (500) and M (1000) to make 400 and 900.\n",
    " \n",
    " Given a Roman numeral, convert it to an integer.\n",
    " \n",
    " ### Examples:\n",
    " \n",
    " **Example 1:**\n",
    " \n",
    " - **Input:** s = \"III\"\n",
    " - **Output:** 3\n",
    " - **Explanation:** III = 3.\n",
    " \n",
    " **Example 2:**\n",
    " \n",
    " - **Input:** s = \"LVIII\"\n",
    " - **Output:** 58\n",
    " - **Explanation:** L = 50, V= 5, III = 3.\n",
    " \n",
    " **Example 3:**\n",
    " \n",
    " - **Input:** s = \"MCMXCIV\"\n",
    " - **Output:** 1994\n",
    " - **Explanation:** M = 1000, CM = 900, XC = 90, and IV = 4.\n",
    " \n",
    " ### Constraints:\n",
    " \n",
    " - 1 <= s.length <= 15\n",
    " - s contains only the characters ('I', 'V', 'X', 'L', 'C', 'D', 'M').\n",
    " - It is guaranteed that s is a valid Roman numeral in the range [1, 3999].\n"
   ]
  },
  {
   "cell_type": "markdown",
   "id": "d4149334-96ab-4e33-8a19-ff3873c2f5bd",
   "metadata": {},
   "source": [
    "## Submission\n"
   ]
  },
  {
   "cell_type": "code",
   "execution_count": 54,
   "id": "7d803070-b921-4e49-a894-42d6a6c2594d",
   "metadata": {},
   "outputs": [
    {
     "name": "stdout",
     "output_type": "stream",
     "text": [
      "3\n"
     ]
    }
   ],
   "source": [
    "s = 'III'\n",
    "\n",
    "value = 0\n",
    "\n",
    "for letter in s:\n",
    "    if letter == 'M':\n",
    "        value += 1000\n",
    "    if letter == 'D':\n",
    "        value += 500\n",
    "    if letter == 'C':\n",
    "        value += 100\n",
    "    if letter == 'L':\n",
    "        value += 50\n",
    "    if letter == 'X':\n",
    "        value += 10\n",
    "    if letter == 'V':\n",
    "        value += 5\n",
    "    if letter == 'I':\n",
    "        value += 1 \n",
    "\n",
    "# special cases\n",
    "for letter in range(len(s)):\n",
    "    two_letters = s[letter:letter+2]\n",
    "    \n",
    "## I can be placed before V (5) and X (10) to make 4 and 9. \n",
    "### same as -1\n",
    "    if two_letters == 'IV' or two_letters == 'IX':\n",
    "        value -= 2\n",
    "\n",
    "## X can be placed before L (50) and C (100) to make 40 and 90. \n",
    "### same as -10\n",
    "    if two_letters == 'XL' or two_letters == 'XC':\n",
    "        value -= 20\n",
    "\n",
    "## C can be placed before D (500) and M (1000) to make 400 and 900.\n",
    "### same as -100\n",
    "    if two_letters == 'CD' or two_letters == 'CM':\n",
    "        value -= 200\n",
    "\n",
    "# print check\n",
    "print(value)\n"
   ]
  },
  {
   "cell_type": "markdown",
   "id": "6660b387-44a1-48c4-b303-bb9920ca4271",
   "metadata": {},
   "source": [
    "## scratchpad\n"
   ]
  },
  {
   "cell_type": "code",
   "execution_count": 37,
   "id": "ace1637b-3dba-4def-a0af-db419bcfe540",
   "metadata": {},
   "outputs": [],
   "source": [
    "# save the str symbols as their constituent int values\n",
    "I = 1\n",
    "V = 5\n",
    "X = 10\n",
    "L = 50\n",
    "C = 100\n",
    "D = 500\n",
    "M = 1000"
   ]
  },
  {
   "cell_type": "code",
   "execution_count": 38,
   "id": "5074890f-8de9-45d1-acf5-be02494b2a94",
   "metadata": {},
   "outputs": [],
   "source": [
    "# save the roman numeral as a list of strings\n",
    "# may not need this\n",
    "s_lst = [letter for letter in s]"
   ]
  },
  {
   "cell_type": "code",
   "execution_count": 39,
   "id": "ba68f19b-849d-4f82-a223-839d7d7737b2",
   "metadata": {},
   "outputs": [
    {
     "name": "stdout",
     "output_type": "stream",
     "text": [
      "['X', 'I', 'V']\n"
     ]
    }
   ],
   "source": [
    "print(s_lst)"
   ]
  },
  {
   "cell_type": "code",
   "execution_count": 53,
   "id": "dbaea6c0-309e-41ff-8e44-bc00a1bb44b0",
   "metadata": {},
   "outputs": [],
   "source": [
    "s = 'XLIV'"
   ]
  },
  {
   "cell_type": "code",
   "execution_count": 48,
   "id": "a27327f5-c0a4-491e-a10a-8fe6fbce2a12",
   "metadata": {},
   "outputs": [
    {
     "name": "stdout",
     "output_type": "stream",
     "text": [
      "66\n"
     ]
    }
   ],
   "source": [
    "value = 0\n",
    "\n",
    "for letter in s:\n",
    "    if letter == 'M':\n",
    "        value += 1000\n",
    "    if letter == 'D':\n",
    "        value += 500\n",
    "    if letter == 'C':\n",
    "        value += 100\n",
    "    if letter == 'L':\n",
    "        value += 50\n",
    "    if letter == 'X':\n",
    "        value += 10\n",
    "    if letter == 'V':\n",
    "        value += 5\n",
    "    if letter == 'I':\n",
    "        value += 1 \n",
    "print(value)"
   ]
  },
  {
   "cell_type": "code",
   "execution_count": 49,
   "id": "73ab93e1-fc56-446e-89c4-12651d06acc6",
   "metadata": {},
   "outputs": [
    {
     "name": "stdout",
     "output_type": "stream",
     "text": [
      "44\n"
     ]
    }
   ],
   "source": [
    "# special cases\n",
    "for letter in range(len(s)):\n",
    "    two_letters = s[letter:letter+2]\n",
    "    \n",
    "## I can be placed before V (5) and X (10) to make 4 and 9. \n",
    "### same as -1\n",
    "    if two_letters == 'IV' or two_letters == 'IX':\n",
    "        value -= 2\n",
    "\n",
    "## X can be placed before L (50) and C (100) to make 40 and 90. \n",
    "### same as -10\n",
    "    if two_letters == 'XL' or two_letters == 'XC':\n",
    "        value -= 20\n",
    "\n",
    "## C can be placed before D (500) and M (1000) to make 400 and 900.\n",
    "### same as -100\n",
    "    if two_letters == 'CD' or two_letters == 'CM':\n",
    "        value -= 200\n",
    "\n",
    "# print check\n",
    "print(value)"
   ]
  },
  {
   "cell_type": "code",
   "execution_count": 24,
   "id": "1cab40ce-6e07-469b-a8a2-d754e1b7c34c",
   "metadata": {},
   "outputs": [
    {
     "name": "stdout",
     "output_type": "stream",
     "text": [
      "he\n",
      "el\n",
      "ll\n",
      "lo\n",
      "o\n"
     ]
    }
   ],
   "source": [
    "text = \"hello\"\n",
    "for i in range(len(text)):\n",
    "    two_letters = text[i:i+2]\n",
    "    print(two_letters)\n",
    "\n"
   ]
  },
  {
   "cell_type": "markdown",
   "id": "bf16a175-d048-4d03-90d0-87c595fa9df0",
   "metadata": {},
   "source": [
    "# GPT + Kyle\n"
   ]
  },
  {
   "cell_type": "code",
   "execution_count": 60,
   "id": "11e730fb-4714-4d76-9164-c539bc7a9880",
   "metadata": {},
   "outputs": [
    {
     "name": "stdout",
     "output_type": "stream",
     "text": [
      "3\n"
     ]
    }
   ],
   "source": [
    "value = 0\n",
    "\n",
    "for letter in s:\n",
    "    if letter == 'M':\n",
    "        value += 1000\n",
    "    if letter == 'D':\n",
    "        value += 500\n",
    "    if letter == 'C':\n",
    "        value += 100\n",
    "    if letter == 'L':\n",
    "        value += 50\n",
    "    if letter == 'X':\n",
    "        value += 10\n",
    "    if letter == 'V':\n",
    "        value += 5\n",
    "    if letter == 'I':\n",
    "        value += 1 \n",
    "\n",
    "# Define special cases and their corresponding value adjustments\n",
    "special_cases = {\n",
    "    'IV': -2,\n",
    "    'IX': -2,\n",
    "    'XL': -20,\n",
    "    'XC': -20,\n",
    "    'CD': -200,\n",
    "    'CM': -200\n",
    "}\n",
    "\n",
    "\n",
    "# Loop through the string\n",
    "s = \"III\"  \n",
    "for letter in range(len(s) - 1):  # Use len(s) - 1 to avoid out-of-bounds error\n",
    "    two_letters = s[letter:letter + 2]\n",
    "    \n",
    "    # Adjust value for special cases\n",
    "    value += special_cases.get(two_letters, 0)  # get() returns 0 if two_letters is not a key in special_cases\n",
    "\n",
    "print(value)\n"
   ]
  },
  {
   "cell_type": "markdown",
   "id": "3e34fadb-b96a-452d-9c44-c334009437ba",
   "metadata": {},
   "source": [
    "# Dictionaries!"
   ]
  },
  {
   "cell_type": "code",
   "execution_count": null,
   "id": "b3afec66-0c93-4a2b-80fe-1c48581f3b09",
   "metadata": {},
   "outputs": [],
   "source": [
    "# Define basic Roman numeral values\n",
    "roman_values = {\n",
    "    'M': 1000,\n",
    "    'D': 500,\n",
    "    'C': 100,\n",
    "    'L': 50,\n",
    "    'X': 10,\n",
    "    'V': 5,\n",
    "    'I': 1\n",
    "}\n",
    "\n",
    "# Define special cases and their corresponding value adjustments\n",
    "special_cases = {\n",
    "    'IV': -2,\n",
    "    'IX': -2,\n",
    "    'XL': -20,\n",
    "    'XC': -20,\n",
    "    'CD': -200,\n",
    "    'CM': -200\n",
    "}\n",
    "\n",
    "# Initialize value\n",
    "value = 0\n",
    "\n",
    "# Calculate value based on individual Roman numerals\n",
    "for letter in s:\n",
    "    value += roman_values.get(letter, 0)  # get() returns 0 if letter is not a key in roman_values\n",
    "\n",
    "# Adjust value for special cases\n",
    "for i in range(len(s) - 1):  # Use len(s) - 1 to avoid out-of-bounds error\n",
    "    two_letters = s[i:i + 2]\n",
    "    value += special_cases.get(two_letters, 0)  # get() returns 0 if two_letters is not a key in special_cases\n",
    "\n",
    "# Print the final value\n",
    "print(value)\n"
   ]
  }
 ],
 "metadata": {
  "kernelspec": {
   "display_name": "Python 3 (ipykernel)",
   "language": "python",
   "name": "python3"
  },
  "language_info": {
   "codemirror_mode": {
    "name": "ipython",
    "version": 3
   },
   "file_extension": ".py",
   "mimetype": "text/x-python",
   "name": "python",
   "nbconvert_exporter": "python",
   "pygments_lexer": "ipython3",
   "version": "3.10.9"
  }
 },
 "nbformat": 4,
 "nbformat_minor": 5
}
