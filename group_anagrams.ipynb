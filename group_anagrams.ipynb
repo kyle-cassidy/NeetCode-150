{
 "cells": [
  {
   "cell_type": "markdown",
   "metadata": {},
   "source": [
    "# Duplicate Integer\n",
    "Given an integer array nums, return true if any value appears more than once in the array, otherwise return false.\n",
    "\n",
    "## Example 1:\n",
    "\n",
    "Input: nums = [1, 2, 3, 3]\n",
    "\n",
    "Output: true\n",
    "Example 2:\n",
    "\n",
    "Input: nums = [1, 2, 3, 4]\n",
    "\n",
    "Output: false"
   ]
  },
  {
   "cell_type": "code",
   "execution_count": 2,
   "metadata": {},
   "outputs": [],
   "source": [
    "anagrams = []\n",
    "words = [\"eat\", \"tea\", \"tan\", \"ate\", \"nat\", \"bat\"]\n",
    "\n"
   ]
  },
  {
   "cell_type": "code",
   "execution_count": 7,
   "metadata": {},
   "outputs": [],
   "source": [
    "\n",
    "def groupAnagrams(words=words):\n",
    "    # create a tracker - needs to return a list of lists\n",
    "    matches = {}\n",
    "    # What are the use cases for this?\n",
    "        # find the anagrams\n",
    "    # edge cases\n",
    "        # empty strings\n",
    "    for index, word in enumerate(words):\n",
    "        # we have the word\n",
    "        sorted_word = \"\".join(sorted(word))\n",
    "        # check if sorted is a key in matches dict\n",
    "        if sorted_word in matches:\n",
    "            # update that list value\n",
    "            # matches[sorted_word].append(word)\n",
    "            print('true')\n",
    "        else:\n",
    "            # add the key to the dict\n",
    "            matches[sorted_word] = [word]\n",
    "    print(matches)\n",
    "    return matches\n"
   ]
  },
  {
   "cell_type": "code",
   "execution_count": 8,
   "metadata": {},
   "outputs": [
    {
     "name": "stdout",
     "output_type": "stream",
     "text": [
      "true\n",
      "true\n",
      "true\n",
      "{'aet': ['eat'], 'ant': ['tan'], 'abt': ['bat']}\n"
     ]
    },
    {
     "data": {
      "text/plain": [
       "{'aet': ['eat'], 'ant': ['tan'], 'abt': ['bat']}"
      ]
     },
     "execution_count": 8,
     "metadata": {},
     "output_type": "execute_result"
    }
   ],
   "source": [
    "groupAnagrams()\n",
    "\n"
   ]
  },
  {
   "cell_type": "code",
   "execution_count": null,
   "metadata": {},
   "outputs": [],
   "source": [
    "\n",
    "# sort the array\n",
    "def has_duplicate(nums=nums):\n",
    "    is_duplicate = False\n",
    "    nums.sort()\n",
    "    print(nums)\n",
    "    # loop through the array\n",
    "    for i, n in enumerate(nums[:-1]):\n",
    "        if n == nums[i+1]:\n",
    "            print(f'''\n",
    "                  index = {i} | number = {n}\n",
    "                  index = {i+1} | number = {nums[i+1]}\n",
    "                  \n",
    "                  {n} == {nums[i+1]}\n",
    "                  \n",
    "                  ''')\n",
    "            is_duplicate = True\n",
    "            return True\n",
    "        \n",
    "        \n",
    "    # if no duplicates found\n",
    "    print(f'No duplicates found')\n",
    "    return False\n",
    "\n",
    "has_duplicate()"
   ]
  },
  {
   "cell_type": "code",
   "execution_count": null,
   "metadata": {},
   "outputs": [],
   "source": [
    "def has_duplicate(nums=nums):\n",
    "    return len(nums) != len(set(nums))\n",
    "\n",
    "has_duplicate()"
   ]
  }
 ],
 "metadata": {
  "kernelspec": {
   "display_name": "forge",
   "language": "python",
   "name": "python3"
  },
  "language_info": {
   "codemirror_mode": {
    "name": "ipython",
    "version": 3
   },
   "file_extension": ".py",
   "mimetype": "text/x-python",
   "name": "python",
   "nbconvert_exporter": "python",
   "pygments_lexer": "ipython3",
   "version": "3.11.8"
  }
 },
 "nbformat": 4,
 "nbformat_minor": 2
}
