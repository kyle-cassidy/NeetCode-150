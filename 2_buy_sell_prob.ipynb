{
  "cells": [
    {
      "cell_type": "markdown",
      "id": "601e01a0-28d9-438c-b9cc-6369784c9a57",
      "metadata": {
        "id": "601e01a0-28d9-438c-b9cc-6369784c9a57"
      },
      "source": [
        "# Buy and Sell a Stock"
      ]
    },
    {
      "cell_type": "markdown",
      "id": "168f4de2-491b-45f8-8260-8bf6c4addf7d",
      "metadata": {
        "id": "168f4de2-491b-45f8-8260-8bf6c4addf7d"
      },
      "source": [
        "### Introduction"
      ]
    },
    {
      "cell_type": "markdown",
      "id": "75620174-9d6e-4dd8-a8c5-dc7f3cad9c32",
      "metadata": {
        "id": "75620174-9d6e-4dd8-a8c5-dc7f3cad9c32"
      },
      "source": [
        "You are given an array prices where `prices[i]` is the price of a given stock on the ith day.\n",
        "\n",
        "You want to maximize your profit by choosing a single day to buy one stock and choosing a different day in the future to sell that stock."
      ]
    },
    {
      "cell_type": "markdown",
      "id": "3a4acef6-77c0-42ca-9461-dfbeb2a0e1ef",
      "metadata": {
        "id": "3a4acef6-77c0-42ca-9461-dfbeb2a0e1ef"
      },
      "source": [
        "Return the maximum profit you can achieve from this transaction. If you cannot achieve any profit, return 0."
      ]
    },
    {
      "cell_type": "code",
      "execution_count": 36,
      "id": "642c14b2-b3a3-43bf-a8be-c1a08bf582de",
      "metadata": {
        "id": "642c14b2-b3a3-43bf-a8be-c1a08bf582de"
      },
      "outputs": [],
      "source": [
        "prices = [7, 1, 5, 3, 6, 4]\n"
      ]
    },
    {
      "cell_type": "markdown",
      "id": "60af4c41-49d4-4284-8727-2ede0d3da737",
      "metadata": {
        "id": "60af4c41-49d4-4284-8727-2ede0d3da737"
      },
      "source": [
        "`output = 5`\n",
        "\n",
        "Buy on day 2 (price = 1) and sell on day 5 (price = 6), profit = 6-1 = 5."
      ]
    },
    {
      "cell_type": "markdown",
      "id": "8dc97b3a-8bf4-4cae-a7f9-5a653a45e2d1",
      "metadata": {
        "id": "8dc97b3a-8bf4-4cae-a7f9-5a653a45e2d1"
      },
      "source": [
        "* Example 2"
      ]
    },
    {
      "cell_type": "code",
      "execution_count": 34,
      "id": "e64c8019-ad99-45ec-adbe-32faac425b03",
      "metadata": {
        "id": "e64c8019-ad99-45ec-adbe-32faac425b03"
      },
      "outputs": [],
      "source": [
        "prices = [7,6,4,3,1]\n",
        "output = 0"
      ]
    },
    {
      "cell_type": "code",
      "execution_count": 25,
      "id": "9640e062",
      "metadata": {},
      "outputs": [],
      "source": [
        "prices = [2,1,2,1,0,1,2]"
      ]
    },
    {
      "cell_type": "code",
      "execution_count": 43,
      "id": "e7ae93b2",
      "metadata": {},
      "outputs": [],
      "source": [
        "prices = [1,2]"
      ]
    },
    {
      "cell_type": "code",
      "execution_count": 81,
      "id": "996121dc",
      "metadata": {},
      "outputs": [],
      "source": [
        "prices = [2,1,2,1,0,1,2]\n",
        "# output = 2\n"
      ]
    },
    {
      "cell_type": "code",
      "execution_count": 91,
      "id": "42e133e2",
      "metadata": {},
      "outputs": [],
      "source": [
        "def maxProfit(prices):\n",
        "    \"\"\"\n",
        "    :type prices: List[int]\n",
        "    :rtype: int\n",
        "        \"\"\"\n",
        "    # edge case\n",
        "    if len(prices) < 2:\n",
        "        return 0\n",
        "\n",
        "    # sell on the day with highest price that has a higher index and higher price than buy day\n",
        "    \n",
        "    # we cannot sell on the first day because we cannot daytrade\n",
        "    # set sell to the second day\n",
        "    sell_day = 1\n",
        "    sell = prices[sell_day]  \n",
        "\n",
        "    buy_day = 0\n",
        "    buy = prices[buy_day]  #\n",
        "\n",
        "    # set profit to zero until you can find a day with a higher price than the buy day\n",
        "    profit = 0\n",
        "\n",
        "    # start looping from the second day\n",
        "    # for each num in the prices array:  \n",
        "    for i, price in enumerate(prices[1:], start=1):  # start=1 to correct the day index\n",
        "        # if the buy day ever becomes lower while looping AND the sell day is still occuring later in the week, \n",
        "        # change out the buy day prices[i]\n",
        "        if price < buy:\n",
        "            buy = price\n",
        "            buy_day = i\n",
        "            # print(f\"lower price on day {i}, swapping the buy price for {price}\")\n",
        "\n",
        "        #if the price on a given day ever gets larger than buy day\n",
        "        elif price - buy > profit:\n",
        "            sell = price\n",
        "            sell_day = i\n",
        "            profit = price - buy\n",
        "            # print(f\"higher price on day {i}, swapping the sell price for {price}\")\n",
        "\n",
        "        # # Update profit only if sell_day is after buy_day\n",
        "        # if sell_day > buy_day:\n",
        "        #     profit = max(profit, sell - buy)  \n",
        "            \n",
        "            \n",
        "            # if profit < 0:\n",
        "            #     profit = 0\n",
        "\n",
        "    return profit\n",
        "\n"
      ]
    },
    {
      "cell_type": "code",
      "execution_count": 82,
      "id": "f314fe2f",
      "metadata": {},
      "outputs": [],
      "source": [
        "def maxProfit(prices):\n",
        "    \"\"\"\n",
        "    :type prices: List[int]\n",
        "    :rtype: int\n",
        "    \"\"\"\n",
        "    if len(prices) < 2:\n",
        "        return 0\n",
        "\n",
        "    buy_price = float('inf')\n",
        "    max_profit = 0\n",
        "\n",
        "    for price in prices:\n",
        "        if price < buy_price:\n",
        "            buy_price = price\n",
        "        elif price - buy_price > max_profit:\n",
        "            max_profit = price - buy_price\n",
        "\n",
        "    return max_profit"
      ]
    },
    {
      "cell_type": "code",
      "execution_count": 89,
      "id": "9b5ea32f",
      "metadata": {},
      "outputs": [
        {
          "data": {
            "text/plain": [
              "1"
            ]
          },
          "execution_count": 89,
          "metadata": {},
          "output_type": "execute_result"
        }
      ],
      "source": [
        "maxProfit(prices)\n"
      ]
    },
    {
      "cell_type": "code",
      "execution_count": null,
      "id": "09faccbd",
      "metadata": {},
      "outputs": [],
      "source": []
    },
    {
      "cell_type": "markdown",
      "id": "8f7d7d26",
      "metadata": {},
      "source": [
        "# Intuition\n",
        "<!-- Describe your first thoughts on how to solve this problem. -->\n",
        "\n",
        "# Approach\n",
        "<!-- Describe your approach to solving the problem. -->\n",
        "\n",
        "# Complexity\n",
        "- Time complexity:\n",
        "<!-- Add your time complexity here, e.g. $$O(n)$$ -->\n",
        "\n",
        "- Space complexity:\n",
        "<!-- Add your space complexity here, e.g. $$O(n)$$ -->\n",
        "\n",
        "# Code\n",
        "```\n",
        "class Solution(object):\n",
        "    def maxProfit(self, prices):\n",
        "        \"\"\"\n",
        "        :type prices: List[int]\n",
        "        :rtype: int\n",
        "        \"\"\"\n",
        "        if len(prices) < 2:\n",
        "            return 0\n",
        "\n",
        "        buy_price = float('inf')\n",
        "        max_profit = 0\n",
        "\n",
        "        for price in prices:\n",
        "            if price < buy_price:\n",
        "                buy_price = price\n",
        "            elif price - buy_price > max_profit:\n",
        "                max_profit = price - buy_price\n",
        "\n",
        "        return max_profit\n",
        "\n",
        "\n",
        "```"
      ]
    }
  ],
  "metadata": {
    "colab": {
      "provenance": []
    },
    "kernelspec": {
      "display_name": "Python 3 (ipykernel)",
      "language": "python",
      "name": "python3"
    },
    "language_info": {
      "codemirror_mode": {
        "name": "ipython",
        "version": 3
      },
      "file_extension": ".py",
      "mimetype": "text/x-python",
      "name": "python",
      "nbconvert_exporter": "python",
      "pygments_lexer": "ipython3",
      "version": "3.11.8"
    }
  },
  "nbformat": 4,
  "nbformat_minor": 5
}
