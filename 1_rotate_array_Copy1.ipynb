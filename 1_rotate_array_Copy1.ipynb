{
  "cells": [
    {
      "cell_type": "markdown",
      "id": "42cd1d95-105f-44a7-9290-da548ed3cbad",
      "metadata": {
        "id": "42cd1d95-105f-44a7-9290-da548ed3cbad"
      },
      "source": [
        "# Rotate an Array - Leetcode 189"
      ]
    },
    {
      "cell_type": "markdown",
      "id": "7764d178",
      "metadata": {},
      "source": [
        "189. Rotate Array\n",
        "Medium\n",
        "Topics\n",
        "Companies\n",
        "Hint\n",
        "Given an integer array nums, rotate the array to the right by k steps, where k is non-negative.\n",
        "\n",
        " \n",
        "\n",
        "Example 1:\n",
        "\n",
        "Input: nums = [1,2,3,4,5,6,7], k = 3\n",
        "Output: [5,6,7,1,2,3,4]\n",
        "Explanation:\n",
        "rotate 1 steps to the right: [7,1,2,3,4,5,6]\n",
        "rotate 2 steps to the right: [6,7,1,2,3,4,5]\n",
        "rotate 3 steps to the right: [5,6,7,1,2,3,4]\n",
        "Example 2:\n",
        "\n",
        "Input: nums = [-1,-100,3,99], k = 2\n",
        "Output: [3,99,-1,-100]\n",
        "Explanation: \n",
        "rotate 1 steps to the right: [99,-1,-100,3]\n",
        "rotate 2 steps to the right: [3,99,-1,-100]\n",
        " \n",
        "\n",
        "Constraints:\n",
        "\n",
        "1 <= nums.length <= 105\n",
        "-231 <= nums[i] <= 231 - 1\n",
        "0 <= k <= 105\n",
        " \n",
        "\n",
        "Follow up:\n",
        "\n",
        "Try to come up with as many solutions as you can. There are at least three different ways to solve this problem.\n",
        "Could you do it in-place with O(1) extra space?"
      ]
    },
    {
      "cell_type": "markdown",
      "id": "e76b2fbb-4a2d-4e88-9c73-0946abd15cfe",
      "metadata": {
        "id": "e76b2fbb-4a2d-4e88-9c73-0946abd15cfe"
      },
      "source": [
        "### Problem\n",
        "\n",
        "Given an array, rotate an array by k steps, where k is non-negative.\n",
        "\n",
        "> There are three different solutions to this problem.  If you have time, try to solve this 2 - 3 different ways."
      ]
    },
    {
      "cell_type": "markdown",
      "id": "d3ae43cd-0c4f-4454-a375-f3258aeb4a32",
      "metadata": {
        "id": "d3ae43cd-0c4f-4454-a375-f3258aeb4a32"
      },
      "source": [
        "### Examples"
      ]
    },
    {
      "cell_type": "markdown",
      "id": "b2cad12e-7283-4576-a993-cd2d842d4b89",
      "metadata": {
        "id": "b2cad12e-7283-4576-a993-cd2d842d4b89"
      },
      "source": [
        "* Eg 1"
      ]
    },
    {
      "cell_type": "code",
      "execution_count": 8,
      "id": "a79ceb79-ce64-4842-9448-2dce62f8cf13",
      "metadata": {
        "id": "a79ceb79-ce64-4842-9448-2dce62f8cf13"
      },
      "outputs": [],
      "source": [
        "arr_1 = [1, 2, 3, 4, 5, 6, 7]\n",
        "k = 3\n",
        "\n",
        "# [5, 6, 7, 1, 2, 3, 4]"
      ]
    },
    {
      "cell_type": "markdown",
      "id": "5ba7e059-a81b-4eed-988e-8188aaa14910",
      "metadata": {
        "id": "5ba7e059-a81b-4eed-988e-8188aaa14910"
      },
      "source": [
        "* Eg 2"
      ]
    },
    {
      "cell_type": "code",
      "execution_count": 16,
      "id": "9e1cb5e7-15a6-4599-bd8b-68b6592ddacc",
      "metadata": {
        "id": "9e1cb5e7-15a6-4599-bd8b-68b6592ddacc"
      },
      "outputs": [],
      "source": [
        "nums = [-1, -100, 3, 99]\n",
        "k = 2\n"
      ]
    },
    {
      "cell_type": "code",
      "execution_count": 5,
      "id": "c88a2c50-223c-4b7c-b363-a68459deb9b1",
      "metadata": {
        "id": "c88a2c50-223c-4b7c-b363-a68459deb9b1"
      },
      "outputs": [],
      "source": [
        "# [3, 99, -1, -100]"
      ]
    },
    {
      "cell_type": "code",
      "execution_count": 12,
      "id": "6c266d31-b1db-4456-91f9-ccb039bf7e86",
      "metadata": {
        "id": "6c266d31-b1db-4456-91f9-ccb039bf7e86"
      },
      "outputs": [],
      "source": [
        "# rotation step: a pop and add to the front of the array\n",
        "# k is the num of iterations or amount to shift\n",
        "# \n",
        "\n",
        "# rotation\n",
        "def rotate(nums, k):\n",
        "    \"\"\"\n",
        "    :type nums: List[int]\n",
        "    :type k: int\n",
        "    :rtype: None Do not return anything, modify nums in-place instead.\n",
        "    \"\"\"\n",
        "    for _ in range(k):\n",
        "        num = nums.pop()\n",
        "        nums.insert(0,num)\n",
        "    return nums\n",
        "    "
      ]
    },
    {
      "cell_type": "code",
      "execution_count": 13,
      "id": "042cdfd4",
      "metadata": {},
      "outputs": [
        {
          "data": {
            "text/plain": [
              "[5, 6, 7, 1, 2, 3, 4]"
            ]
          },
          "execution_count": 13,
          "metadata": {},
          "output_type": "execute_result"
        }
      ],
      "source": [
        "rotate(arr_1, k)\n"
      ]
    },
    {
      "cell_type": "code",
      "execution_count": 17,
      "id": "216955a3",
      "metadata": {},
      "outputs": [
        {
          "data": {
            "text/plain": [
              "[3, 99, -1, -100]"
            ]
          },
          "execution_count": 17,
          "metadata": {},
          "output_type": "execute_result"
        }
      ],
      "source": [
        "rotate(nums,2)"
      ]
    },
    {
      "cell_type": "markdown",
      "id": "4d5c7a15",
      "metadata": {},
      "source": [
        "# accepted"
      ]
    },
    {
      "cell_type": "code",
      "execution_count": null,
      "id": "aebd13ef",
      "metadata": {},
      "outputs": [],
      "source": [
        "class Solution(object):\n",
        "    def rotate(self, nums, k):\n",
        "        \"\"\"\n",
        "        :type nums: List[int]\n",
        "        :type k: int\n",
        "        :rtype: None Do not return anything, modify nums in-place instead.\n",
        "        \"\"\"\n",
        "        # for _ in range(k):\n",
        "        #     num = nums.pop()\n",
        "        #     nums.insert(0,num)\n",
        "        # return nums\n",
        "\n",
        "        k = k % len(nums)\n",
        "\n",
        "        nums[:] = nums[len(nums)-k:] + nums[:len(nums)-k]\n",
        "        return nums\n"
      ]
    }
  ],
  "metadata": {
    "colab": {
      "provenance": []
    },
    "kernelspec": {
      "display_name": "Python 3 (ipykernel)",
      "language": "python",
      "name": "python3"
    },
    "language_info": {
      "codemirror_mode": {
        "name": "ipython",
        "version": 3
      },
      "file_extension": ".py",
      "mimetype": "text/x-python",
      "name": "python",
      "nbconvert_exporter": "python",
      "pygments_lexer": "ipython3",
      "version": "3.11.8"
    }
  },
  "nbformat": 4,
  "nbformat_minor": 5
}
