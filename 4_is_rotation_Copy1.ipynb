{
  "cells": [
    {
      "cell_type": "markdown",
      "id": "eb24178b-72a4-4614-a841-2d8991aa065c",
      "metadata": {
        "id": "eb24178b-72a4-4614-a841-2d8991aa065c"
      },
      "source": [
        "# Is Rotation?"
      ]
    },
    {
      "cell_type": "markdown",
      "id": "93cba8d5-6c04-4cc3-9b5a-b92b79132241",
      "metadata": {
        "id": "93cba8d5-6c04-4cc3-9b5a-b92b79132241"
      },
      "source": [
        "Given two strings s and goal, return true if and only if s can become goal after some number of shifts on s.\n",
        "\n",
        "A shift on s consists of moving the leftmost character of s to the rightmost position"
      ]
    },
    {
      "cell_type": "code",
      "execution_count": 1,
      "id": "a07e9bc9-6562-45fb-9c58-ea1f7ee303bb",
      "metadata": {
        "id": "a07e9bc9-6562-45fb-9c58-ea1f7ee303bb"
      },
      "outputs": [],
      "source": [
        "s = \"abcde\"\n",
        "goal = \"cdeab\"\n",
        "# true"
      ]
    },
    {
      "cell_type": "code",
      "execution_count": 5,
      "id": "711fa14b",
      "metadata": {},
      "outputs": [],
      "source": [
        "s = \"horsesstink\"\n",
        "goal = \"stinkhorses\""
      ]
    },
    {
      "cell_type": "code",
      "execution_count": 10,
      "id": "04424c29",
      "metadata": {},
      "outputs": [],
      "source": [
        "s = \"farts\"\n",
        "goal = \"kylefarts\""
      ]
    },
    {
      "cell_type": "code",
      "execution_count": 11,
      "id": "foSyaEVWBzwo",
      "metadata": {
        "id": "foSyaEVWBzwo"
      },
      "outputs": [],
      "source": [
        "def shift(s=s):\n",
        "    x = ''.join(s[1:])\n",
        "    y = s[0]\n",
        "    s=x+y\n",
        "    return s\n",
        "\n",
        "def is_rotation(s=s,goal=goal):\n",
        "    # set an index\n",
        "    i = 0\n",
        "\n",
        "    # while i is less than the len of goal,\n",
        "    while i < len(goal):\n",
        "        print('round', i, 's:',s, 'goal:',goal)\n",
        "        # shift\n",
        "        s = shift(s)\n",
        "\n",
        "        # if s is not goal\n",
        "        if s != goal:\n",
        "            # add 1 to i\n",
        "            i += 1\n",
        "            continue\n",
        "        else:\n",
        "            print('hit goal on round', i, 's:',s, 'goal:',goal)\n",
        "            return True\n",
        "\n",
        "    # return false\n",
        "    return False"
      ]
    },
    {
      "cell_type": "code",
      "execution_count": 12,
      "id": "mIeLnVwfB28U",
      "metadata": {
        "colab": {
          "base_uri": "https://localhost:8080/"
        },
        "id": "mIeLnVwfB28U",
        "outputId": "9e46c14e-682a-4c8c-a965-bcba272e2ee7"
      },
      "outputs": [
        {
          "name": "stdout",
          "output_type": "stream",
          "text": [
            "round 0 s: farts goal: kylefarts\n",
            "round 1 s: artsf goal: kylefarts\n",
            "round 2 s: rtsfa goal: kylefarts\n",
            "round 3 s: tsfar goal: kylefarts\n",
            "round 4 s: sfart goal: kylefarts\n",
            "round 5 s: farts goal: kylefarts\n",
            "round 6 s: artsf goal: kylefarts\n",
            "round 7 s: rtsfa goal: kylefarts\n",
            "round 8 s: tsfar goal: kylefarts\n"
          ]
        },
        {
          "data": {
            "text/plain": [
              "False"
            ]
          },
          "execution_count": 12,
          "metadata": {},
          "output_type": "execute_result"
        }
      ],
      "source": [
        "is_rotation()"
      ]
    },
    {
      "cell_type": "markdown",
      "id": "5b5d9562-313c-4ab5-a29e-f9e5fc29adf5",
      "metadata": {
        "id": "5b5d9562-313c-4ab5-a29e-f9e5fc29adf5"
      },
      "source": [
        "### Resources\n",
        "\n",
        "[Leetcode](https://leetcode.com/problems/rotate-string/)"
      ]
    }
  ],
  "metadata": {
    "colab": {
      "provenance": []
    },
    "kernelspec": {
      "display_name": "Python 3 (ipykernel)",
      "language": "python",
      "name": "python3"
    },
    "language_info": {
      "codemirror_mode": {
        "name": "ipython",
        "version": 3
      },
      "file_extension": ".py",
      "mimetype": "text/x-python",
      "name": "python",
      "nbconvert_exporter": "python",
      "pygments_lexer": "ipython3",
      "version": "3.11.8"
    }
  },
  "nbformat": 4,
  "nbformat_minor": 5
}
