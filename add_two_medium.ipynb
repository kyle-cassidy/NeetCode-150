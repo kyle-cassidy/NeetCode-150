{
 "cells": [
  {
   "cell_type": "markdown",
   "id": "8d237f82-9559-4ff0-9e2d-3fc9cb4628b3",
   "metadata": {},
   "source": [
    "# directions"
   ]
  },
  {
   "cell_type": "markdown",
   "id": "d970b9a1-a9fd-46d7-b6ea-634edcb1ef13",
   "metadata": {},
   "source": [
    "You are given two non-empty linked lists representing two non-negative integers. The digits are stored in reverse order, and each of their nodes contains a single digit. Add the two numbers and return the sum as a linked list.\n",
    "\n",
    "You may assume the two numbers do not contain any leading zero, except the number 0 itself.\n",
    "\n",
    " \n",
    "\n",
    "Example 1:\n",
    "\n",
    "```python\n",
    "Input: l1 = [2,4,3], l2 = [5,6,4]\n",
    "Output: [7,0,8]\n",
    "Explanation: 342 + 465 = 807.\n",
    "```\n",
    "Example 2:\n",
    "\n",
    "```python\n",
    "Input: l1 = [0], l2 = [0]\n",
    "Output: [0]\n",
    "```\n",
    "Example 3:\n",
    "```python\n",
    "Input: l1 = [9,9,9,9,9,9,9], l2 = [9,9,9,9]\n",
    "Output: [8,9,9,9,0,0,0,1]\n",
    "``` \n",
    "\n",
    "Constraints:\n",
    "\n",
    "The number of nodes in each linked list is in the `range [1, 100]`.\n",
    "`0 <= Node.val <= 9`\n",
    "It is guaranteed that the list represents a number that does not have leading zeros."
   ]
  },
  {
   "cell_type": "markdown",
   "id": "efd696c1-4565-4c0b-b97a-eef9e2068e59",
   "metadata": {},
   "source": [
    "# submission code"
   ]
  },
  {
   "cell_type": "code",
   "execution_count": 19,
   "id": "762f7524-87d4-4a5d-91a2-4252bc0291a6",
   "metadata": {
    "editable": true,
    "slideshow": {
     "slide_type": ""
    },
    "tags": []
   },
   "outputs": [],
   "source": [
    "# Input:\n",
    "l1 = [2,4,3]\n",
    "l2 = [5,6,4]\n",
    "#Output: [7,0,8]\n",
    "#Explanation: 342 + 465 = 807\n",
    "\n",
    "# Input2:\n",
    "x1 = [0]\n",
    "x2 = [0]\n",
    "#Output: [0]\n",
    "\n",
    "# Input3:\n",
    "y1 = [9,9,9,9,9,9,9]\n",
    "y2 = [9,9,9,9]\n",
    "#Output: [8,9,9,9,0,0,0,1]"
   ]
  },
  {
   "cell_type": "code",
   "execution_count": 32,
   "id": "e336e4e5-4231-4b1b-960c-eadc25a5e9ae",
   "metadata": {
    "editable": true,
    "slideshow": {
     "slide_type": ""
    },
    "tags": []
   },
   "outputs": [],
   "source": [
    "# Definition for singly-linked list.\n",
    "# class ListNode(object):\n",
    "#     def __init__(self, val=0, next=None):\n",
    "#         self.val = val\n",
    "#         self.next = next\n",
    "class Solution(object):\n",
    "    def addTwoNumbers(self, l1, l2):\n",
    "        \"\"\"\n",
    "        :type l1: ListNode\n",
    "        :type l2: ListNode\n",
    "        :rtype: ListNode\n",
    "        \"\"\"\n",
    "    def addTwoNumbers(self,l1, l2):\n",
    "        output = []\n",
    "        carry = 0\n",
    "    \n",
    "        # make the lists same length\n",
    "        if len(l1) > len(l2):\n",
    "            diff = len(l1) - len(l2)\n",
    "            for i in range(diff):\n",
    "                l2.append(0)\n",
    "        if len(l1) < len(l2):\n",
    "            diff = len(l2) - len(l1)\n",
    "            for i in range(diff):\n",
    "                l1.append(0)\n",
    "    \n",
    "    \n",
    "        # zip lists to get tuples, \n",
    "        for i, tup in enumerate(list(zip(l1, l2))):\n",
    "            result = tup[0] + tup[1] + carry\n",
    "    \n",
    "            if result > 9:\n",
    "                carry = 1\n",
    "                result -= 10\n",
    "                output.append(result)\n",
    "    \n",
    "            else:\n",
    "                output.append(result)\n",
    "                carry = 0\n",
    "    \n",
    "            # if its the last element, add the carry is 1, add to the output\n",
    "            if i == len(l1) - 1 and carry == 1:\n",
    "                output.append(carry)\n",
    "            \n",
    "        return output\n",
    "\n"
   ]
  },
  {
   "cell_type": "markdown",
   "id": "ad7a8c17-a1bd-4495-8327-6b5e73ff4312",
   "metadata": {},
   "source": [
    "# scratchpad"
   ]
  },
  {
   "cell_type": "code",
   "execution_count": 5,
   "id": "726413b1-2bca-47aa-85d0-358affd88c4e",
   "metadata": {},
   "outputs": [],
   "source": [
    "# Input:\n",
    "l1 = [2,4,3]\n",
    "l2 = [5,6,4]\n",
    "#Output: [7,0,8]\n",
    "#Explanation: 342 + 465 = 807\n",
    "\n",
    "# Input2:\n",
    "x1 = [0]\n",
    "x2 = [0]\n",
    "#Output: [0]\n",
    "\n",
    "# Input3:\n",
    "y1 = [9,9,9,9,9,9,9]\n",
    "y2 = [9,9,9,9]\n",
    "#Output: [8,9,9,9,0,0,0,1]"
   ]
  },
  {
   "cell_type": "code",
   "execution_count": 28,
   "id": "8a3fdbbd-4e10-40cc-9c9d-e76576166969",
   "metadata": {},
   "outputs": [],
   "source": [
    "def addTwoNumbers(l1, l2):\n",
    "    output = []\n",
    "    carry = 0\n",
    "\n",
    "    # make the lists same length\n",
    "    if len(l1) > len(l2):\n",
    "        diff = len(l1) - len(l2)\n",
    "        for i in range(diff):\n",
    "            l2.append(0)\n",
    "    if len(l1) < len(l2):\n",
    "        diff = len(l2) - len(l1)\n",
    "        for i in range(diff):\n",
    "            l1.append(0)\n",
    "\n",
    "\n",
    "    # zip lists to get tuples, \n",
    "    for i, tup in enumerate(list(zip(l1, l2))):\n",
    "        result = tup[0] + tup[1] + carry\n",
    "\n",
    "        if result > 9:\n",
    "            carry = 1\n",
    "            result -= 10\n",
    "            output.append(result)\n",
    "\n",
    "        else:\n",
    "            output.append(result)\n",
    "            carry = 0\n",
    "\n",
    "        # if its the last element, add the carry is 1, add to the output\n",
    "        if i == len(l1) - 1 and carry == 1:\n",
    "            output.append(carry)\n",
    "        \n",
    "    return output"
   ]
  },
  {
   "cell_type": "code",
   "execution_count": 33,
   "id": "a9675162-d2f7-4265-ad74-45733f241747",
   "metadata": {},
   "outputs": [
    {
     "data": {
      "text/plain": [
       "[7, 0, 8]"
      ]
     },
     "execution_count": 33,
     "metadata": {},
     "output_type": "execute_result"
    }
   ],
   "source": [
    "addTwoNumbers(l1, l2)"
   ]
  },
  {
   "cell_type": "code",
   "execution_count": 30,
   "id": "0610fc9d-8c30-4158-984f-dda2b11a81b4",
   "metadata": {},
   "outputs": [
    {
     "data": {
      "text/plain": [
       "[0]"
      ]
     },
     "execution_count": 30,
     "metadata": {},
     "output_type": "execute_result"
    }
   ],
   "source": [
    "addTwoNumbers(x1, x2)"
   ]
  },
  {
   "cell_type": "code",
   "execution_count": 31,
   "id": "90b22cff-9ad6-4e0b-bc44-bf9bc18123dc",
   "metadata": {
    "editable": true,
    "slideshow": {
     "slide_type": ""
    },
    "tags": []
   },
   "outputs": [
    {
     "data": {
      "text/plain": [
       "[8, 9, 9, 9, 0, 0, 0, 1]"
      ]
     },
     "execution_count": 31,
     "metadata": {},
     "output_type": "execute_result"
    }
   ],
   "source": [
    "addTwoNumbers(y1, y2)"
   ]
  }
 ],
 "metadata": {
  "kernelspec": {
   "display_name": "Python 3 (ipykernel)",
   "language": "python",
   "name": "python3"
  },
  "language_info": {
   "codemirror_mode": {
    "name": "ipython",
    "version": 3
   },
   "file_extension": ".py",
   "mimetype": "text/x-python",
   "name": "python",
   "nbconvert_exporter": "python",
   "pygments_lexer": "ipython3",
   "version": "3.10.9"
  }
 },
 "nbformat": 4,
 "nbformat_minor": 5
}
