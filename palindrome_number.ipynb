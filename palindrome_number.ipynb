{
 "cells": [
  {
   "cell_type": "markdown",
   "id": "ac67162b-2cf3-4d41-955e-1d25b90d8f15",
   "metadata": {},
   "source": [
    "# Palindrome Number"
   ]
  },
  {
   "cell_type": "markdown",
   "id": "68a47c56-0d81-4ca8-880a-849757c9f928",
   "metadata": {},
   "source": [
    "## first solution"
   ]
  },
  {
   "cell_type": "code",
   "execution_count": 35,
   "id": "f3511f7b-f20b-4c05-a167-f29464709371",
   "metadata": {},
   "outputs": [],
   "source": [
    "x = 121\n",
    "\n",
    "'''we are going to convert the int to a string, \n",
    "then create two seperate lists of the str(digits). \n",
    "one in regular order and one in reverse.\n",
    "then we will compare the str(digit) at each index to see if they equal.'''\n",
    "\n",
    "#convert to string\n",
    "y = str(x)\n",
    "\n",
    "#create a list of letters\n",
    "y_forwards_lst = []\n",
    "\n",
    "for letter in y:\n",
    "    y_forwards_lst.append(letter)\n",
    "\n",
    "#create a list of backwards letters\n",
    "y_backwards_str = y[::-1]\n",
    "y_backwards_lst = []\n",
    "\n",
    "for letter in y_backwards_str:\n",
    "    y_backwards_lst.append(letter)\n",
    "\n",
    "\n"
   ]
  },
  {
   "cell_type": "code",
   "execution_count": 38,
   "id": "ee6c533e-fd38-4475-95e8-28271fcd6753",
   "metadata": {},
   "outputs": [
    {
     "ename": "SyntaxError",
     "evalue": "'return' outside function (1822559543.py, line 3)",
     "output_type": "error",
     "traceback": [
      "\u001b[0;36m  Cell \u001b[0;32mIn[38], line 3\u001b[0;36m\u001b[0m\n\u001b[0;31m    return True\u001b[0m\n\u001b[0m    ^\u001b[0m\n\u001b[0;31mSyntaxError\u001b[0m\u001b[0;31m:\u001b[0m 'return' outside function\n"
     ]
    }
   ],
   "source": [
    "#compare lists for function\n",
    "if y_backwards_lst == y_forwards_lst:\n",
    "    return True\n",
    "else:\n",
    "    return False\n",
    "\n"
   ]
  },
  {
   "cell_type": "markdown",
   "id": "8469e289-eea9-40ad-83e9-f80b4e183106",
   "metadata": {},
   "source": [
    "## not submitted, but correct"
   ]
  },
  {
   "cell_type": "code",
   "execution_count": 44,
   "id": "fd3fb35c-b575-4ea4-a3b9-e073374a8fac",
   "metadata": {},
   "outputs": [],
   "source": [
    "class Solution(object):\n",
    "    def isPalindrome(self, x):\n",
    "        \"\"\"\n",
    "        :type x: int\n",
    "        :rtype: bool\n",
    "        \"\"\"\n",
    "        \n",
    "\n",
    "        #convert to string\n",
    "        y = str(x)\n",
    "\n",
    "        #create a list of letters\n",
    "        y_forwards_lst = []\n",
    "\n",
    "        for letter in y:\n",
    "            y_forwards_lst.append(letter)\n",
    "\n",
    "        #create a list of backwards letters\n",
    "        y_backwards_str = y[::-1]\n",
    "        y_backwards_lst = []\n",
    "\n",
    "        for letter in y_backwards_str:\n",
    "            y_backwards_lst.append(letter)\n",
    "\n",
    "        #compare lists for function\n",
    "        if y_backwards_lst == y_forwards_lst:\n",
    "            return True\n",
    "        else:\n",
    "            return False"
   ]
  },
  {
   "cell_type": "code",
   "execution_count": null,
   "id": "9a8e65a3-868b-4f53-a10f-e227b285f117",
   "metadata": {},
   "outputs": [],
   "source": []
  },
  {
   "cell_type": "markdown",
   "id": "9cdd8699-7d73-4a7b-b674-ba71015c04e3",
   "metadata": {},
   "source": [
    "## second solution"
   ]
  },
  {
   "cell_type": "code",
   "execution_count": 48,
   "id": "84e9060f-3900-4509-9730-ea884c9d1c16",
   "metadata": {},
   "outputs": [
    {
     "name": "stdout",
     "output_type": "stream",
     "text": [
      "False\n"
     ]
    }
   ],
   "source": [
    "x = 123\n",
    "\n",
    "'''we are going to convert the int to a string, \n",
    "then reverse slice it and save to a new variable.\n",
    "'''\n",
    "\n",
    "#convert to string\n",
    "y = str(x)\n",
    "z = y[::-1]\n",
    "\n",
    "if y == z:\n",
    "    print(True)\n",
    "else:\n",
    "    print(False)\n"
   ]
  },
  {
   "cell_type": "markdown",
   "id": "c0102b42-e0ec-49c7-a87a-fbf3fbdf9ba7",
   "metadata": {},
   "source": [
    "## submission"
   ]
  },
  {
   "cell_type": "code",
   "execution_count": 45,
   "id": "f72f2dc5-41fa-4491-bc63-cdeb4e1f0899",
   "metadata": {},
   "outputs": [],
   "source": [
    "class Solution(object):\n",
    "    def isPalindrome(self, x):\n",
    "        \"\"\"\n",
    "        :type x: int\n",
    "        :rtype: bool\n",
    "        \"\"\"\n",
    "\n",
    "        #convert to string\n",
    "        y = str(x)\n",
    "        z = y[::-1]\n",
    "\n",
    "        if y == z:\n",
    "            return(True)\n",
    "        else:\n",
    "            return(False)"
   ]
  }
 ],
 "metadata": {
  "kernelspec": {
   "display_name": "Python 3 (ipykernel)",
   "language": "python",
   "name": "python3"
  },
  "language_info": {
   "codemirror_mode": {
    "name": "ipython",
    "version": 3
   },
   "file_extension": ".py",
   "mimetype": "text/x-python",
   "name": "python",
   "nbconvert_exporter": "python",
   "pygments_lexer": "ipython3",
   "version": "3.10.9"
  }
 },
 "nbformat": 4,
 "nbformat_minor": 5
}
