{
 "cells": [
  {
   "cell_type": "markdown",
   "metadata": {},
   "source": [
    "# 217. Contains Duplicate"
   ]
  },
  {
   "cell_type": "markdown",
   "metadata": {},
   "source": [
    "```yaml\n",
    "---\n",
    "title: Contains Duplicate\n",
    "leetcode_id: 217\n",
    "neetcode_id: 1\n",
    "difficulty: easy\n",
    "topic: Arrays & Hashing\n",
    "attempted: \n",
    "---"
   ]
  },
  {
   "cell_type": "markdown",
   "metadata": {},
   "source": [
    "# Description"
   ]
  },
  {
   "cell_type": "markdown",
   "metadata": {},
   "source": [
    "## problem statement\n",
    "Given an integer array `nums`, return `true` if any value appears at least twice in the array, and return `false` if every element is distinct.\n"
   ]
  },
  {
   "cell_type": "markdown",
   "metadata": {},
   "source": [
    "## Examples\n",
    "```python\n",
    "## Example 1:\n",
    "Input: nums = [1,2,3,1]\n",
    "Output: True\n",
    "\n",
    "## Example 2:\n",
    "Input: nums = [1,2,3,4]\n",
    "Output: False\n",
    "\n",
    "## Example 3:\n",
    "Input: nums = [1,1,1,3,3,4,3,2,4,2]\n",
    "Output: True\n",
    "```\n",
    "\n",
    "## Constraints:\n",
    "```python\n",
    "- 1 <= nums.length <= 105\n",
    "- 109 <= nums[i] <= 109\n",
    "```"
   ]
  },
  {
   "cell_type": "markdown",
   "metadata": {},
   "source": [
    "# Implementation"
   ]
  },
  {
   "cell_type": "code",
   "execution_count": 1,
   "metadata": {},
   "outputs": [],
   "source": [
    "nums1 = [1,2,3,1]\n",
    "nums2 = [1,2,3,4]\n",
    "nums3 = [1,1,1,3,3,4,3,2,4,2]"
   ]
  },
  {
   "cell_type": "markdown",
   "metadata": {},
   "source": [
    "## 1"
   ]
  },
  {
   "cell_type": "code",
   "execution_count": null,
   "metadata": {},
   "outputs": [],
   "source": [
    "def containsDuplicate(nums: list[int]) -> bool:\n",
    "    # Your implementation here\n",
    "    pass"
   ]
  },
  {
   "cell_type": "markdown",
   "metadata": {},
   "source": [
    "## 2"
   ]
  },
  {
   "cell_type": "code",
   "execution_count": null,
   "metadata": {},
   "outputs": [],
   "source": [
    "def containsDuplicate(nums: list[int]) -> bool:\n",
    "    # Your implementation here\n",
    "    pass"
   ]
  },
  {
   "cell_type": "markdown",
   "metadata": {},
   "source": [
    "## 3"
   ]
  },
  {
   "cell_type": "code",
   "execution_count": null,
   "metadata": {},
   "outputs": [],
   "source": [
    "def containsDuplicate(nums: list[int]) -> bool:\n",
    "    # Your implementation here\n",
    "    pass"
   ]
  },
  {
   "cell_type": "markdown",
   "metadata": {},
   "source": [
    "# Test"
   ]
  },
  {
   "cell_type": "code",
   "execution_count": null,
   "metadata": {},
   "outputs": [],
   "source": [
    "from typing import List\n",
    "\n",
    "\n",
    "\n",
    "def test_containsDuplicate():\n",
    "    # Test case 1: Array with duplicates\n",
    "    nums1 = [1, 2, 3, 1]\n",
    "    assert containsDuplicate(nums1) == True\n",
    "\n",
    "    # Test case 2: Array without duplicates\n",
    "    nums2 = [1, 2, 3, 4]\n",
    "    assert containsDuplicate(nums2) == False\n",
    "\n",
    "    # Test case 3: Array with multiple duplicates\n",
    "    nums3 = [1, 1, 1, 3, 3, 4, 3, 2, 4, 2]\n",
    "    assert containsDuplicate(nums3) == True\n",
    "\n",
    "    # Test case 4: Empty array\n",
    "    nums4 = []\n",
    "    assert containsDuplicate(nums4) == False\n",
    "\n",
    "    # Test case 5: Array with a single element\n",
    "    nums5 = [1]\n",
    "    assert containsDuplicate(nums5) == False\n",
    "\n",
    "    # Test case 6: Array with all duplicates\n",
    "    nums6 = [1, 1, 1, 1]\n",
    "    assert containsDuplicate(nums6) == True\n",
    "\n",
    "    # Test case 7: Array with negative numbers\n",
    "    nums7 = [-1, 0, 1, -1]\n",
    "    assert containsDuplicate(nums7) == True\n",
    "\n",
    "    print(\"All test cases passed!\")\n",
    "\n",
    "# Run the tests\n",
    "test_containsDuplicate()"
   ]
  }
 ],
 "metadata": {
  "kernelspec": {
   "display_name": "forge",
   "language": "python",
   "name": "python3"
  },
  "language_info": {
   "codemirror_mode": {
    "name": "ipython",
    "version": 3
   },
   "file_extension": ".py",
   "mimetype": "text/x-python",
   "name": "python",
   "nbconvert_exporter": "python",
   "pygments_lexer": "ipython3",
   "version": "3.11.8"
  }
 },
 "nbformat": 4,
 "nbformat_minor": 2
}
