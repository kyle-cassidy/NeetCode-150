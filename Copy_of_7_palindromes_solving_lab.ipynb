{
  "cells": [
    {
      "cell_type": "markdown",
      "id": "figured-spelling",
      "metadata": {
        "id": "figured-spelling"
      },
      "source": [
        "# 2. Problem Solving"
      ]
    },
    {
      "cell_type": "markdown",
      "id": "personalized-folks",
      "metadata": {
        "id": "personalized-folks"
      },
      "source": [
        "## Introduction"
      ]
    },
    {
      "cell_type": "markdown",
      "id": "9a4b5da0-c953-4719-9a33-ed24f6e132ae",
      "metadata": {
        "id": "9a4b5da0-c953-4719-9a33-ed24f6e132ae"
      },
      "source": [
        "In this lesson, we'll work on the palindrome solving the palindrome problem without code, and then we can translate it into code.  Let's get started."
      ]
    },
    {
      "cell_type": "markdown",
      "id": "07687745-61db-4fef-a182-b58fffb07661",
      "metadata": {
        "id": "07687745-61db-4fef-a182-b58fffb07661"
      },
      "source": [
        "### Resuming our Problem"
      ]
    },
    {
      "cell_type": "markdown",
      "id": "44e397f1-aff5-4015-a4db-24e257667224",
      "metadata": {
        "id": "44e397f1-aff5-4015-a4db-24e257667224"
      },
      "source": [
        "So previously, we made sure that we understood the problem.  We will be given a string and will write a function that returns `True` if the string is a palindrome, and `False` if it is not.  We defined a palindrome as something that is the same forwards and backwards.\n",
        "\n",
        "We ended the last lesson, by providing a few examples, and the related solution."
      ]
    },
    {
      "cell_type": "code",
      "execution_count": 2,
      "id": "457b8940-833f-459d-aa0e-27f91b92d6b7",
      "metadata": {
        "id": "457b8940-833f-459d-aa0e-27f91b92d6b7"
      },
      "outputs": [],
      "source": [
        "def is_palindrome(text):\n",
        "    pass"
      ]
    },
    {
      "cell_type": "code",
      "execution_count": 3,
      "id": "-VGaSTdAOG0R",
      "metadata": {
        "colab": {
          "base_uri": "https://localhost:8080/"
        },
        "id": "-VGaSTdAOG0R",
        "outputId": "5ca9f56a-5142-49e9-bd36-b08f37edf771"
      },
      "outputs": [
        {
          "name": "stdout",
          "output_type": "stream",
          "text": [
            "gnirts\n"
          ]
        }
      ],
      "source": [
        "s = \"string\"\n",
        "backwards_string = s[::-1]\n",
        "print(backwards_string)"
      ]
    },
    {
      "cell_type": "code",
      "execution_count": 4,
      "id": "bba74589",
      "metadata": {},
      "outputs": [],
      "source": [
        "example = \"A man, a plan, a canal, Panama\"\n",
        "\n"
      ]
    },
    {
      "cell_type": "markdown",
      "id": "3dc60624",
      "metadata": {},
      "source": [
        "## thinking"
      ]
    },
    {
      "cell_type": "code",
      "execution_count": 10,
      "id": "5064b1b5",
      "metadata": {},
      "outputs": [],
      "source": [
        "# does the palandrome include spaces? punc? just letters?\n",
        "# assuming that these elements do not effect the palandrome, for example, A man, a plan, a canal, Panama.\n",
        "# then we need to clean the string: whitespace (strip), lowercase, remove punctuation,\n",
        "# steps:\n",
        "    # clean string\n",
        "    # reverse string\n",
        "    # check for equality\n",
        "\n"
      ]
    },
    {
      "cell_type": "markdown",
      "id": "e6efe83a",
      "metadata": {},
      "source": [
        "## clean stirng"
      ]
    },
    {
      "cell_type": "code",
      "execution_count": 8,
      "id": "MwIE0RGqOxUi",
      "metadata": {
        "id": "MwIE0RGqOxUi"
      },
      "outputs": [],
      "source": [
        "\n",
        "\n",
        "# steps:\n",
        "\n",
        "# 1. clean string\n",
        "def clean_string(s):\n",
        "    \n",
        "    # strip whitespace\n",
        "    s = s.strip()\n",
        "    \n",
        "    # lowercase\n",
        "    s = s.lower()\n",
        "    \n",
        "    # remove punctuation\n",
        "    punctuation = \".,!?;:\"\n",
        "    for char in punctuation:\n",
        "        s = s.replace(char, \"\")\n",
        "    \n",
        "    # remove spaces\n",
        "    s = s.replace(\" \", \"\")\n",
        "    \n",
        "    return s\n",
        "\n",
        "# 2. reverse string\n",
        "# 3. check for equality\n",
        "\n",
        "\n"
      ]
    },
    {
      "cell_type": "code",
      "execution_count": 9,
      "id": "4068c325",
      "metadata": {},
      "outputs": [
        {
          "name": "stdout",
          "output_type": "stream",
          "text": [
            "amanaplanacanalpanama\n"
          ]
        }
      ],
      "source": [
        "clean_example = clean_string(example)\n",
        "print(clean_example)\n"
      ]
    },
    {
      "cell_type": "markdown",
      "id": "d863a723",
      "metadata": {},
      "source": [
        "## reverse"
      ]
    },
    {
      "cell_type": "code",
      "execution_count": 11,
      "id": "355c9f1c",
      "metadata": {},
      "outputs": [],
      "source": [
        "def reverse_string(s):\n",
        "    return s[::-1]"
      ]
    },
    {
      "cell_type": "markdown",
      "id": "92bea73e",
      "metadata": {},
      "source": [
        "## equality"
      ]
    },
    {
      "cell_type": "code",
      "execution_count": 12,
      "id": "944a686a",
      "metadata": {},
      "outputs": [],
      "source": [
        "def check_equality(s, backwards_s):\n",
        "    return s == backwards_s"
      ]
    },
    {
      "cell_type": "markdown",
      "id": "51982adb",
      "metadata": {},
      "source": [
        "## final: put it together"
      ]
    },
    {
      "cell_type": "code",
      "execution_count": 13,
      "id": "7504cbcf",
      "metadata": {},
      "outputs": [],
      "source": [
        "def is_palindrome(text):\n",
        "    # clean string\n",
        "    text = clean_string(text)\n",
        "    print(text)\n",
        "    # reverse string\n",
        "    backwards_text = reverse_string(text)\n",
        "    print(backwards_text)\n",
        "    \n",
        "    # check equality\n",
        "    return check_equality(text, backwards_text)\n"
      ]
    },
    {
      "cell_type": "code",
      "execution_count": 15,
      "id": "603183bf-6d58-45d3-82f0-103e694f255b",
      "metadata": {
        "id": "603183bf-6d58-45d3-82f0-103e694f255b"
      },
      "outputs": [],
      "source": [
        "first_string = \"whatever\" # False\n",
        "second_string = \"madam\" # True\n"
      ]
    },
    {
      "cell_type": "code",
      "execution_count": 17,
      "id": "8ca3464f",
      "metadata": {},
      "outputs": [
        {
          "name": "stdout",
          "output_type": "stream",
          "text": [
            "whatever\n",
            "revetahw\n",
            "False\n",
            "madam\n",
            "madam\n",
            "True\n"
          ]
        }
      ],
      "source": [
        "print(is_palindrome(first_string))\n",
        "print(is_palindrome(second_string))\n",
        "\n"
      ]
    },
    {
      "cell_type": "markdown",
      "id": "5b0aab7e-d1e2-4779-885a-68fdb312740f",
      "metadata": {
        "id": "5b0aab7e-d1e2-4779-885a-68fdb312740f"
      },
      "source": [
        "Ok, now it's your turn.\n",
        "\n",
        "1. Answer the examples in your head\n",
        "\n",
        "The first step is to solve the examples in your head.  For example, here are two new examples."
      ]
    },
    {
      "cell_type": "code",
      "execution_count": null,
      "id": "e58da4ab-ac6b-4b6d-90c0-c10bc5c00b6c",
      "metadata": {
        "id": "e58da4ab-ac6b-4b6d-90c0-c10bc5c00b6c"
      },
      "outputs": [],
      "source": [
        "third_string = \"toot\"\n",
        "fourth_string = \"madam im adam\""
      ]
    },
    {
      "cell_type": "markdown",
      "id": "2f802b6f-1f7d-4dfd-8720-98681fc2eaf7",
      "metadata": {
        "id": "2f802b6f-1f7d-4dfd-8720-98681fc2eaf7"
      },
      "source": [
        "2. Write down the steps"
      ]
    },
    {
      "cell_type": "markdown",
      "id": "5d9cb1f1-99f2-4a7d-a5b4-6c75a330bcb5",
      "metadata": {
        "id": "5d9cb1f1-99f2-4a7d-a5b4-6c75a330bcb5"
      },
      "source": [
        "Now that we know our brain can properly answer the question, the next step is to write down the steps our brain performed."
      ]
    },
    {
      "cell_type": "markdown",
      "id": "013788e3-cd83-48b7-8d0b-a75a0f5de593",
      "metadata": {
        "id": "013788e3-cd83-48b7-8d0b-a75a0f5de593"
      },
      "source": [
        "> Oftentimes, three is a good number of steps, but there can be more."
      ]
    },
    {
      "cell_type": "markdown",
      "id": "173e5169-c041-4b3b-ac09-f57d48aefa84",
      "metadata": {
        "id": "173e5169-c041-4b3b-ac09-f57d48aefa84"
      },
      "source": [
        "```\n",
        "# write steps here\n",
        "\n",
        "```"
      ]
    },
    {
      "cell_type": "markdown",
      "id": "5af21939-88e2-40e7-a3a3-8b06ef16f67e",
      "metadata": {
        "id": "5af21939-88e2-40e7-a3a3-8b06ef16f67e"
      },
      "source": [
        "### Translate to code"
      ]
    },
    {
      "cell_type": "markdown",
      "id": "9a876630-76f3-45e1-b378-532431c6ef43",
      "metadata": {
        "id": "9a876630-76f3-45e1-b378-532431c6ef43"
      },
      "source": [
        "Ok, now it's time to translate this procedure into code."
      ]
    },
    {
      "cell_type": "code",
      "execution_count": null,
      "id": "20d13e67-d61d-41af-ba2c-e54c7b3ccb6b",
      "metadata": {
        "id": "20d13e67-d61d-41af-ba2c-e54c7b3ccb6b"
      },
      "outputs": [],
      "source": [
        "def is_palindrome(text):\n",
        "    pass"
      ]
    },
    {
      "cell_type": "code",
      "execution_count": null,
      "id": "7927fa1a-177a-4387-b8dc-ae9a98e697ba",
      "metadata": {
        "id": "7927fa1a-177a-4387-b8dc-ae9a98e697ba"
      },
      "outputs": [],
      "source": [
        "is_palindrome(\"whatever\") # False\n",
        "is_palindrome(\"madam\") # True\n",
        "is_palindrome(\"toot\") # True\n",
        "is_palindrome(\"Madam Im Adam\") # True"
      ]
    },
    {
      "cell_type": "markdown",
      "id": "incredible-company",
      "metadata": {
        "id": "incredible-company"
      },
      "source": [
        "### Summary\n",
        "\n",
        "So do you see all of that work we did before we began coding?  That is the work we need to get into the habit of employing each time.  And not just with interview questions - this is the process professional programmers use with each problem.  So you should get into the habit of of incorporating this into your programming process as well.\n",
        "\n",
        "1. Clarify the problem\n",
        "2. Problem solve\n",
        "3. Translate to code\n",
        "\n",
        "And the entire way, make sure you are communicating to your interviewer.  Even if an idea doesn't end up being pursued, it is still good to bring the interviewer along in your thinking process.  Your interviewer will want a developer on their team who shares their thinking, and shares even wrong ideas so that the rest of the team can save time in not pursuing them.\n",
        "\n",
        "Finally, as you go through these programming problems, its good **for you to create your own checklist**.  What techniques are you employing?  How do you get unstuck?  What are good data structures to think about?\n"
      ]
    },
    {
      "cell_type": "markdown",
      "id": "nR43pZH8QfSf",
      "metadata": {
        "id": "nR43pZH8QfSf"
      },
      "source": [
        "# archived"
      ]
    },
    {
      "cell_type": "code",
      "execution_count": null,
      "id": "DjNq0phnOD1B",
      "metadata": {
        "id": "DjNq0phnOD1B"
      },
      "outputs": [],
      "source": [
        "\n",
        "# start by getting the len of the string\n",
        "# loop through each letter of the string\n",
        "\n",
        "def is_palandrome(palandrome):\n",
        "    for i in range(len(palandrome)):\n",
        "        if palandrome[i] == palandrome[-(i+1)]:\n",
        "            continue\n",
        "\n",
        "        # if not a match = false\n",
        "        else:\n",
        "            return False\n",
        "\n",
        "    return True\n"
      ]
    }
  ],
  "metadata": {
    "colab": {
      "provenance": []
    },
    "kernelspec": {
      "display_name": "Python 3 (ipykernel)",
      "language": "python",
      "name": "python3"
    },
    "language_info": {
      "codemirror_mode": {
        "name": "ipython",
        "version": 3
      },
      "file_extension": ".py",
      "mimetype": "text/x-python",
      "name": "python",
      "nbconvert_exporter": "python",
      "pygments_lexer": "ipython3",
      "version": "3.11.8"
    }
  },
  "nbformat": 4,
  "nbformat_minor": 5
}
