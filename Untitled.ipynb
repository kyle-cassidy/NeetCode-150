{
 "cells": [
  {
   "cell_type": "code",
   "execution_count": 2,
   "id": "37e62ae8-4137-4e41-b4a4-c8118be4e248",
   "metadata": {
    "editable": true,
    "slideshow": {
     "slide_type": ""
    },
    "tags": []
   },
   "outputs": [],
   "source": [
    "# Input:\n",
    "l1 = [2,4,3]\n",
    "l2 = [5,6,4]\n",
    "#Output: [7,0,8]\n",
    "#Explanation: 342 + 465 = 807\n",
    "\n",
    "# Input2:\n",
    "x1 = [0]\n",
    "x2 = [0]\n",
    "#Output: [0]\n",
    "\n",
    "# Input3:\n",
    "y1 = [9,9,9,9,9,9,9]\n",
    "y2 = [9,9,9,9]\n",
    "#Output: [8,9,9,9,0,0,0,1]"
   ]
  },
  {
   "cell_type": "code",
   "execution_count": 3,
   "id": "01c7fea4-a848-43e9-919b-4fe0137bf8e0",
   "metadata": {
    "editable": true,
    "slideshow": {
     "slide_type": ""
    },
    "tags": []
   },
   "outputs": [],
   "source": [
    "# Definition for singly-linked list.\n",
    "# class ListNode(object):\n",
    "#     def __init__(self, val=0, next=None):\n",
    "#         self.val = val\n",
    "#         self.next = next\n",
    "class Solution(object):\n",
    "    def addTwoNumbers(self, l1, l2):\n",
    "        \"\"\"\n",
    "        :type l1: ListNode\n",
    "        :type l2: ListNode\n",
    "        :rtype: ListNode\n",
    "        \"\"\"\n",
    "    def addTwoNumbers(self,l1, l2):\n",
    "        output = []\n",
    "        carry = 0\n",
    "    \n",
    "        # make the lists same length\n",
    "        if len(l1) > len(l2):\n",
    "            diff = len(l1) - len(l2)\n",
    "            for i in range(diff):\n",
    "                l2.append(0)\n",
    "        if len(l1) < len(l2):\n",
    "            diff = len(l2) - len(l1)\n",
    "            for i in range(diff):\n",
    "                l1.append(0)\n",
    "    \n",
    "    \n",
    "        # zip lists to get tuples, \n",
    "        for i, tup in enumerate(list(zip(l1, l2))):\n",
    "            result = tup[0] + tup[1] + carry\n",
    "    \n",
    "            if result > 9:\n",
    "                carry = 1\n",
    "                result -= 10\n",
    "                output.append(result)\n",
    "    \n",
    "            else:\n",
    "                output.append(result)\n",
    "                carry = 0\n",
    "    \n",
    "            # if its the last element, add the carry is 1, add to the output\n",
    "            if i == len(l1) - 1 and carry == 1:\n",
    "                output.append(carry)\n",
    "            \n",
    "        return output\n",
    "\n"
   ]
  },
  {
   "cell_type": "code",
   "execution_count": 10,
   "id": "0b006e25-8946-47af-ab6d-30981065a91d",
   "metadata": {},
   "outputs": [
    {
     "data": {
      "text/plain": [
       "[8, 9, 9, 9, 0, 0, 0, 1]"
      ]
     },
     "execution_count": 10,
     "metadata": {},
     "output_type": "execute_result"
    }
   ],
   "source": [
    "Solution().addTwoNumbers(y1,y2)"
   ]
  },
  {
   "cell_type": "code",
   "execution_count": null,
   "id": "434ea858-5d0e-4af0-8b33-b5e476ab8a18",
   "metadata": {},
   "outputs": [],
   "source": []
  }
 ],
 "metadata": {
  "kernelspec": {
   "display_name": "Python 3 (ipykernel)",
   "language": "python",
   "name": "python3"
  },
  "language_info": {
   "codemirror_mode": {
    "name": "ipython",
    "version": 3
   },
   "file_extension": ".py",
   "mimetype": "text/x-python",
   "name": "python",
   "nbconvert_exporter": "python",
   "pygments_lexer": "ipython3",
   "version": "3.10.9"
  }
 },
 "nbformat": 4,
 "nbformat_minor": 5
}
